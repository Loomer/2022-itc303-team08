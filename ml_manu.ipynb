{
  "nbformat": 4,
  "nbformat_minor": 0,
  "metadata": {
    "colab": {
      "name": "ml-manu.ipynb",
      "provenance": [],
      "toc_visible": true,
      "authorship_tag": "ABX9TyNztmVFUL8Fac66cUl+ClXf",
      "include_colab_link": true
    },
    "kernelspec": {
      "name": "python3",
      "display_name": "Python 3"
    },
    "language_info": {
      "name": "python"
    }
  },
  "cells": [
    {
      "cell_type": "markdown",
      "metadata": {
        "id": "view-in-github",
        "colab_type": "text"
      },
      "source": [
        "<a href=\"https://colab.research.google.com/github/Loomer/2022-itc303-team08/blob/ml-manu/ml_manu.ipynb\" target=\"_parent\"><img src=\"https://colab.research.google.com/assets/colab-badge.svg\" alt=\"Open In Colab\"/></a>"
      ]
    },
    {
      "cell_type": "code",
      "execution_count": 1,
      "metadata": {
        "colab": {
          "base_uri": "https://localhost:8080/"
        },
        "id": "YwEAG5xoBwFb",
        "outputId": "5d12faca-8ae8-4dff-a0b8-bc4e6f3317d3"
      },
      "outputs": [
        {
          "output_type": "stream",
          "name": "stdout",
          "text": [
            "Cloning into '2022-itc303-team08'...\n",
            "remote: Enumerating objects: 326, done.\u001b[K\n",
            "remote: Counting objects: 100% (13/13), done.\u001b[K\n",
            "remote: Compressing objects: 100% (13/13), done.\u001b[K\n",
            "remote: Total 326 (delta 4), reused 0 (delta 0), pack-reused 313\u001b[K\n",
            "Receiving objects: 100% (326/326), 111.70 MiB | 31.58 MiB/s, done.\n",
            "Resolving deltas: 100% (34/34), done.\n"
          ]
        }
      ],
      "source": [
        "!git clone -b ml-manu https://github.com/Loomer/2022-itc303-team08.git"
      ]
    },
    {
      "cell_type": "code",
      "source": [
        "import tensorflow as tf\n",
        "print(tf.__version__)"
      ],
      "metadata": {
        "id": "L_45xmoAB9Y3",
        "colab": {
          "base_uri": "https://localhost:8080/"
        },
        "outputId": "ca8c7f85-0f58-49a7-c98f-7975c441268c"
      },
      "execution_count": 2,
      "outputs": [
        {
          "output_type": "stream",
          "name": "stdout",
          "text": [
            "2.8.0\n"
          ]
        }
      ]
    },
    {
      "cell_type": "code",
      "source": [
        "import numpy as np \n",
        "import matplotlib.pyplot as pypt \n",
        "import cv2\n",
        "import os "
      ],
      "metadata": {
        "id": "4hWLtL9fl-6C"
      },
      "execution_count": 4,
      "outputs": []
    },
    {
      "cell_type": "code",
      "source": [
        "image_set = \"/content/2022-itc303-team08/images/train\"\n",
        "imageType = [\"COVID\", \"NORMAL\"]\n",
        "train_set = []\n",
        "train_labels = []\n",
        "\n",
        "def create_train_data():\n",
        "  for imgType in imageType: \n",
        "\n",
        "    link = os.path.join(image_set, imgType)  # create path to NOMRAL and COVID\n",
        "    \n",
        "        \n",
        "    for img in os.listdir(link): \n",
        "      if img == \"Thumbs.db\":\n",
        "        continue # iterate over each image\n",
        "      img_array = cv2.imread(os.path.join(link, img))  # convert to array\n",
        "      new_img_array = cv2.resize(img_array, (50, 50))  # resize to normalize data size\n",
        "      train_set.append(new_img_array)\n",
        "      train_labels.append(imageType.index(imgType)) # add this to our training_data\n",
        "\n",
        "create_train_data()"
      ],
      "metadata": {
        "id": "8llTCX2rvHCp"
      },
      "execution_count": 6,
      "outputs": []
    },
    {
      "cell_type": "code",
      "source": [
        "model = tf.keras.models.Sequential([tf.keras.layers.Flatten(), \n",
        "                                    tf.keras.layers.Dense(512, activation=tf.nn.relu, input_dim = 2), \n",
        "                                    tf.keras.layers.Dense(2, activation=tf.nn.softmax)])"
      ],
      "metadata": {
        "id": "qK2C8fo178yr"
      },
      "execution_count": 7,
      "outputs": []
    },
    {
      "cell_type": "code",
      "source": [
        "train_set = np.array(train_set)\n",
        "train_labels = np.array(train_labels)\n",
        "model.compile(optimizer = tf.keras.optimizers.Adam(),\n",
        "              loss = 'sparse_categorical_crossentropy',\n",
        "              metrics=['accuracy'])\n",
        "\n",
        "model.fit(train_set, train_labels, epochs=5)"
      ],
      "metadata": {
        "colab": {
          "base_uri": "https://localhost:8080/"
        },
        "id": "oXJg-H7R8Pur",
        "outputId": "fbe14501-c84f-4e5d-cfb2-53a9a8451441"
      },
      "execution_count": 8,
      "outputs": [
        {
          "output_type": "stream",
          "name": "stdout",
          "text": [
            "Epoch 1/5\n",
            "7/7 [==============================] - 1s 22ms/step - loss: 2079.8477 - accuracy: 0.5900\n",
            "Epoch 2/5\n",
            "7/7 [==============================] - 0s 22ms/step - loss: 396.7738 - accuracy: 0.5000\n",
            "Epoch 3/5\n",
            "7/7 [==============================] - 0s 25ms/step - loss: 77.4424 - accuracy: 0.7500\n",
            "Epoch 4/5\n",
            "7/7 [==============================] - 0s 23ms/step - loss: 56.4733 - accuracy: 0.8700\n",
            "Epoch 5/5\n",
            "7/7 [==============================] - 0s 22ms/step - loss: 34.2370 - accuracy: 0.9050\n"
          ]
        },
        {
          "output_type": "execute_result",
          "data": {
            "text/plain": [
              "<keras.callbacks.History at 0x7f7917e43050>"
            ]
          },
          "metadata": {},
          "execution_count": 8
        }
      ]
    },
    {
      "cell_type": "code",
      "source": [
        "test_set = []\n",
        "test_labels = []\n",
        "\n",
        "test_image_set = \"/content/2022-itc303-team08/images/test\"\n",
        "\n",
        "def create_test_data():\n",
        "  for imgType in imageType: \n",
        "\n",
        "    link = os.path.join(test_image_set, imgType)  # create path to NOMRAL and COVID\n",
        "        \n",
        "    for img in os.listdir(link): \n",
        "      if img == \"Thumbs.db\":\n",
        "        continue # iterate over each image\n",
        "      test_img_array = cv2.imread(os.path.join(link, img))  # convert to array\n",
        "      new_test_array = cv2.resize(test_img_array, (50, 50))  # resize to normalize data size\n",
        "      test_set.append(new_test_array)\n",
        "      test_labels.append(imageType.index(imgType)) # add this to our training_data\n",
        "\n",
        "create_test_data()\n",
        "print(len(test_set))\n",
        "print(test_labels)"
      ],
      "metadata": {
        "colab": {
          "base_uri": "https://localhost:8080/"
        },
        "id": "8rbjsZGzEtua",
        "outputId": "c9190f65-75fd-4241-ece6-120b064dcded"
      },
      "execution_count": 9,
      "outputs": [
        {
          "output_type": "stream",
          "name": "stdout",
          "text": [
            "10\n",
            "[0, 0, 0, 0, 0, 1, 1, 1, 1, 1]\n"
          ]
        }
      ]
    },
    {
      "cell_type": "code",
      "source": [
        "test_set = np.array(test_set)\n",
        "test_labels = np.array(test_labels)\n",
        "\n",
        "model.evaluate(test_set, test_labels)"
      ],
      "metadata": {
        "colab": {
          "base_uri": "https://localhost:8080/"
        },
        "id": "cn3yHJNLIeJa",
        "outputId": "6d801a18-78e5-4704-cd78-2e91463ead66"
      },
      "execution_count": 10,
      "outputs": [
        {
          "output_type": "stream",
          "name": "stdout",
          "text": [
            "1/1 [==============================] - 0s 141ms/step - loss: 38.1757 - accuracy: 0.9000\n"
          ]
        },
        {
          "output_type": "execute_result",
          "data": {
            "text/plain": [
              "[38.175743103027344, 0.8999999761581421]"
            ]
          },
          "metadata": {},
          "execution_count": 10
        }
      ]
    },
    {
      "cell_type": "code",
      "source": [
        "%"
      ],
      "metadata": {
        "colab": {
          "base_uri": "https://localhost:8080/",
          "height": 36
        },
        "id": "qIjf5QDbtkM0",
        "outputId": "5747d55d-b14c-45ee-b8fc-8b61a2f2e429"
      },
      "execution_count": 14,
      "outputs": [
        {
          "output_type": "execute_result",
          "data": {
            "text/plain": [
              "'/content'"
            ],
            "application/vnd.google.colaboratory.intrinsic+json": {
              "type": "string"
            }
          },
          "metadata": {},
          "execution_count": 14
        }
      ]
    }
  ]
}