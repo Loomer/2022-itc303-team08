{
  "nbformat": 4,
  "nbformat_minor": 0,
  "metadata": {
    "colab": {
      "name": "caFeasibilityTest.ipynb",
      "provenance": [],
      "authorship_tag": "ABX9TyNwduhBfLY+Q/QnSlgYwQHm",
      "include_colab_link": true
    },
    "kernelspec": {
      "name": "python3",
      "display_name": "Python 3"
    },
    "language_info": {
      "name": "python"
    }
  },
  "cells": [
    {
      "cell_type": "markdown",
      "metadata": {
        "id": "view-in-github",
        "colab_type": "text"
      },
      "source": [
        "<a href=\"https://colab.research.google.com/github/Loomer/2022-itc303-team08/blob/mach-learn-dev-cezanne/caFeasibilityTest.ipynb\" target=\"_parent\"><img src=\"https://colab.research.google.com/assets/colab-badge.svg\" alt=\"Open In Colab\"/></a>"
      ]
    },
    {
      "cell_type": "markdown",
      "source": [
        "Test commit"
      ],
      "metadata": {
        "id": "8ofJyCwwzHFO"
      }
    }
  ]
}